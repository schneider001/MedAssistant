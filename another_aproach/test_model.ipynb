{
 "cells": [
  {
   "cell_type": "code",
   "execution_count": 1,
   "metadata": {},
   "outputs": [
    {
     "name": "stderr",
     "output_type": "stream",
     "text": [
      "UsageError: Line magic function `%` not found.\n"
     ]
    }
   ],
   "source": [
    "from model import load_pickle, DiseasePredModel\n",
    "import pandas as pd\n",
    "\n",
    "% autoreload 2"
   ]
  },
  {
   "cell_type": "code",
   "execution_count": 2,
   "metadata": {},
   "outputs": [],
   "source": [
    "model = DiseasePredModel(\"model_predict.pkl\")"
   ]
  },
  {
   "cell_type": "code",
   "execution_count": 3,
   "metadata": {},
   "outputs": [],
   "source": [
    "df = pd.read_csv(\"dataset.csv\")"
   ]
  },
  {
   "cell_type": "code",
   "execution_count": 9,
   "metadata": {},
   "outputs": [
    {
     "data": {
      "text/plain": [
       "array(['Common Cold', ' continuous_sneezing', ' chills', ' fatigue',\n",
       "       ' cough', ' high_fever', ' headache', ' swelled_lymph_nodes',\n",
       "       ' malaise', ' phlegm', ' throat_irritation', ' redness_of_eyes',\n",
       "       ' sinus_pressure', ' runny_nose', ' congestion', ' chest_pain',\n",
       "       ' loss_of_smell', ' muscle_pain'], dtype=object)"
      ]
     },
     "execution_count": 9,
     "metadata": {},
     "output_type": "execute_result"
    }
   ],
   "source": [
    "df.loc[df.Disease == 'Common Cold'].iloc[1].values"
   ]
  },
  {
   "cell_type": "code",
   "execution_count": 5,
   "metadata": {},
   "outputs": [
    {
     "name": "stdout",
     "output_type": "stream",
     "text": [
      "Example input: ['itching' ' skin_rash' ' nodal_skin_eruptions' ' dischromic _patches' nan\n",
      " nan nan nan nan nan nan nan nan nan nan nan nan]\n"
     ]
    }
   ],
   "source": [
    "print(f\"Example input: {df.iloc[0].values[1:]}\")"
   ]
  },
  {
   "cell_type": "code",
   "execution_count": 21,
   "metadata": {},
   "outputs": [],
   "source": [
    "inputs = ['continuous_sneezing', 'chills', 'fatigue',\n",
    "       'cough', 'high_fever', 'headache', ' swelled_lymph_nodes',\n",
    "       'malaise', 'phlegm', 0 , 0,\n",
    "       0, 0, 0, 0,\n",
    "       0, 0]"
   ]
  },
  {
   "cell_type": "code",
   "execution_count": 22,
   "metadata": {},
   "outputs": [
    {
     "data": {
      "text/plain": [
       "'Diabetes'"
      ]
     },
     "execution_count": 22,
     "metadata": {},
     "output_type": "execute_result"
    }
   ],
   "source": [
    "# model.predict(df.iloc[0].values[1:])[0]\n",
    "model.predict(inputs)[0]"
   ]
  }
 ],
 "metadata": {
  "kernelspec": {
   "display_name": "base",
   "language": "python",
   "name": "python3"
  },
  "language_info": {
   "codemirror_mode": {
    "name": "ipython",
    "version": 3
   },
   "file_extension": ".py",
   "mimetype": "text/x-python",
   "name": "python",
   "nbconvert_exporter": "python",
   "pygments_lexer": "ipython3",
   "version": "3.7.6"
  }
 },
 "nbformat": 4,
 "nbformat_minor": 2
}
